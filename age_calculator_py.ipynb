{
  "nbformat": 4,
  "nbformat_minor": 0,
  "metadata": {
    "colab": {
      "provenance": [],
      "authorship_tag": "ABX9TyPv+3zgavNGX89ta/YVTxbI",
      "include_colab_link": true
    },
    "kernelspec": {
      "name": "python3",
      "display_name": "Python 3"
    },
    "language_info": {
      "name": "python"
    }
  },
  "cells": [
    {
      "cell_type": "markdown",
      "metadata": {
        "id": "view-in-github",
        "colab_type": "text"
      },
      "source": [
        "<a href=\"https://colab.research.google.com/github/AminAhmed1978/age_calculator_new/blob/main/age_calculator_py.ipynb\" target=\"_parent\"><img src=\"https://colab.research.google.com/assets/colab-badge.svg\" alt=\"Open In Colab\"/></a>"
      ]
    },
    {
      "cell_type": "code",
      "execution_count": null,
      "metadata": {
        "id": "pEXm_XcjwjFV"
      },
      "outputs": [],
      "source": []
    },
    {
      "cell_type": "markdown",
      "source": [
        "age calculator, calculate age and also tell the horoscope"
      ],
      "metadata": {
        "id": "vpxK57wIwpMz"
      }
    },
    {
      "cell_type": "code",
      "source": [
        "import streamlit as st\n",
        "from datetime import datetime, date\n",
        "\n",
        "# Function to calculate age and horoscope\n",
        "def calculate_age_and_horoscope(birth_date):\n",
        "    today = date.today()\n",
        "    age_years = today.year - birth_date.year - ((today.month, today.day) < (birth_date.month, birth_date.day))\n",
        "    age_days = (today - birth_date).days\n",
        "\n",
        "    horoscope_sign = get_horoscope(birth_date)\n",
        "\n",
        "    return age_years, age_days, horoscope_sign\n",
        "\n",
        "# Function to determine horoscope based on date of birth\n",
        "def get_horoscope(birth_date):\n",
        "    month = birth_date.month\n",
        "    day = birth_date.day\n",
        "\n",
        "    if (month == 3 and day >= 21) or (month == 4 and day <= 19):\n",
        "        return \"Aries\"\n",
        "    elif (month == 4 and day >= 20) or (month == 5 and day <= 20):\n",
        "        return \"Taurus\"\n",
        "    elif (month == 5 and day >= 21) or (month == 6 and day <= 20):\n",
        "        return \"Gemini\"\n",
        "    elif (month == 6 and day >= 21) or (month == 7 and day <= 22):\n",
        "        return \"Cancer\"\n",
        "    elif (month == 7 and day >= 23) or (month == 8 and day <= 22):\n",
        "        return \"Leo\"\n",
        "    elif (month == 8 and day >= 23) or (month == 9 and day <= 22):\n",
        "        return \"Virgo\"\n",
        "    elif (month == 9 and day >= 23) or (month == 10 and day <= 22):\n",
        "        return \"Libra\"\n",
        "    elif (month == 10 and day >= 23) or (month == 11 and day <= 21):\n",
        "        return \"Scorpio\"\n",
        "    elif (month == 11 and day >= 22) or (month == 12 and day <= 21):\n",
        "        return \"Sagittarius\"\n",
        "    elif (month == 12 and day >= 22) or (month == 1 and day <= 19):\n",
        "        return \"Capricorn\"\n",
        "    elif (month == 1 and day >= 20) or (month == 2 and day <= 18):\n",
        "        return \"Aquarius\"\n",
        "    elif (month == 2 and day >= 19) or (month == 3 and day <= 20):\n",
        "        return \"Pisces\"\n",
        "\n",
        "# Streamlit UI setup\n",
        "st.title(\"Age Calculator\")\n",
        "\n",
        "# Creating a calculator-like input area\n",
        "st.markdown(\"<h3 style='text-align: center;'>Enter Your Details</h3>\", unsafe_allow_html=True)\n",
        "\n",
        "col1, col2, col3 = st.columns([1, 2, 1])\n",
        "\n",
        "with col1:\n",
        "    st.write(\"\")  # Empty space for better alignment\n",
        "\n",
        "with col2:\n",
        "    name = st.text_input(\"Name:\", \"\")\n",
        "    gender = st.radio(\"Gender:\", [\"Male\", \"Female\", \"Other\"])\n",
        "    dob = st.date_input(\"Date of Birth:\")\n",
        "\n",
        "    # Adding calculator-like buttons\n",
        "    if st.button(\"Calculate Age\"):\n",
        "        if name and dob:\n",
        "            age_years, age_days, horoscope = calculate_age_and_horoscope(dob)\n",
        "            st.success(\"Result:\")\n",
        "            st.write(f\"**Name**: {name}\")\n",
        "            st.write(f\"**Gender**: {gender}\")\n",
        "            st.write(f\"**Age**: {age_years} years\")\n",
        "            st.write(f\"**Age in Days**: {age_days} days\")\n",
        "            st.write(f\"**Horoscope Sign**: {horoscope}\")\n",
        "        else:\n",
        "            st.warning(\"Please enter your complete details.\")\n",
        "\n",
        "with col3:\n",
        "    st.write(\"\")  # Empty space for better alignment\n",
        "\n",
        "# Styling the calculator-like appearance\n",
        "st.markdown(\n",
        "    \"\"\"\n",
        "    <style>\n",
        "    div.stButton > button {\n",
        "        background-color: #4CAF50; /* Green background */\n",
        "        color: white; /* White text */\n",
        "        padding: 15px 32px;\n",
        "        text-align: center;\n",
        "        text-decoration: none;\n",
        "        display: inline-block;\n",
        "        font-size: 16px;\n",
        "        margin: 4px 2px;\n",
        "        cursor: pointer;\n",
        "        border: none;\n",
        "        border-radius: 5px;\n",
        "    }\n",
        "    </style>\n",
        "    \"\"\", unsafe_allow_html=True\n",
        ")\n"
      ],
      "metadata": {
        "id": "WxLmRlLfxVVf"
      },
      "execution_count": null,
      "outputs": []
    }
  ]
}